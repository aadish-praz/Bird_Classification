{
 "cells": [
  {
   "cell_type": "markdown",
   "id": "3d309af6",
   "metadata": {},
   "source": [
    "## Import Library"
   ]
  },
  {
   "cell_type": "code",
   "execution_count": 1,
   "id": "570fd3b4",
   "metadata": {
    "execution": {
     "iopub.execute_input": "2024-08-04T15:05:26.626778Z",
     "iopub.status.busy": "2024-08-04T15:05:26.625947Z",
     "iopub.status.idle": "2024-08-04T15:05:32.823521Z",
     "shell.execute_reply": "2024-08-04T15:05:32.822718Z"
    },
    "executionInfo": {
     "elapsed": 3835,
     "status": "ok",
     "timestamp": 1722260469305,
     "user": {
      "displayName": "Ni Me Sh",
      "userId": "06044184675512964201"
     },
     "user_tz": -345
    },
    "id": "lpHzN-JUO_2u",
    "papermill": {
     "duration": 6.209425,
     "end_time": "2024-08-04T15:05:32.825949",
     "exception": false,
     "start_time": "2024-08-04T15:05:26.616524",
     "status": "completed"
    },
    "tags": []
   },
   "outputs": [],
   "source": [
    "import os\n",
    "import torch\n",
    "import torch.nn as nn\n",
    "import torch.optim as optim\n",
    "from torchvision import datasets, models, transforms\n",
    "from torch.utils.data import DataLoader\n",
    "import copy\n",
    "import matplotlib.pyplot as plt\n",
    "import gdown\n",
    "import zipfile\n",
    "from PIL import Image\n",
    "from sklearn.metrics import confusion_matrix, classification_report\n",
    "import numpy as np\n",
    "import torch.nn.functional as F"
   ]
  },
  {
   "cell_type": "code",
   "execution_count": 2,
   "id": "5574bb08",
   "metadata": {
    "execution": {
     "iopub.execute_input": "2024-08-04T15:05:32.841753Z",
     "iopub.status.busy": "2024-08-04T15:05:32.840898Z",
     "iopub.status.idle": "2024-08-04T15:05:32.845327Z",
     "shell.execute_reply": "2024-08-04T15:05:32.844476Z"
    },
    "id": "pUMCtjeCFOlU",
    "papermill": {
     "duration": 0.014246,
     "end_time": "2024-08-04T15:05:32.847358",
     "exception": false,
     "start_time": "2024-08-04T15:05:32.833112",
     "status": "completed"
    },
    "tags": []
   },
   "outputs": [],
   "source": [
    "# !pip install gdown"
   ]
  },
  {
   "cell_type": "markdown",
   "id": "3c17b03e",
   "metadata": {},
   "source": [
    "## Download and unzip dataset using gdown package"
   ]
  },
  {
   "cell_type": "code",
   "execution_count": 4,
   "id": "914f89b7",
   "metadata": {
    "execution": {
     "iopub.execute_input": "2024-08-04T15:05:32.944411Z",
     "iopub.status.busy": "2024-08-04T15:05:32.943617Z",
     "iopub.status.idle": "2024-08-04T15:05:32.948715Z",
     "shell.execute_reply": "2024-08-04T15:05:32.947898Z"
    },
    "executionInfo": {
     "elapsed": 39858,
     "status": "ok",
     "timestamp": 1722256703777,
     "user": {
      "displayName": "Ni Me Sh",
      "userId": "06044184675512964201"
     },
     "user_tz": -345
    },
    "id": "4ccvHhyiQDjK",
    "outputId": "d6c41416-4f8c-46d1-df4b-bcfd865d555c",
    "papermill": {
     "duration": 0.014992,
     "end_time": "2024-08-04T15:05:32.950644",
     "exception": false,
     "start_time": "2024-08-04T15:05:32.935652",
     "status": "completed"
    },
    "tags": []
   },
   "outputs": [],
   "source": [
    "# URL of the file on Google Drive\n",
    "file_url = 'https://drive.google.com/uc?export=download&id=1q5tUYDu60nNYFVX1sgMMOWhPX4sd8eZG'\n",
    "# Path where the file will be downloaded\n",
    "output_path = 'seendataset.zip'\n",
    "# Path where the file will be unzipped\n",
    "unzip_dir = 'seendataset'\n",
    "\n",
    "# Download the file from Google Drive\n",
    "gdown.download(file_url, output_path, quiet=False)\n",
    "\n",
    "# Create the destination directory if it does not exist\n",
    "os.makedirs(unzip_dir, exist_ok=True)\n",
    "\n",
    "# Unzip the file\n",
    "with zipfile.ZipFile(output_path, 'r') as zip_ref:\n",
    "    zip_ref.extractall(unzip_dir)\n",
    "\n",
    "# List the files in the destination directory to verify extraction\n",
    "extracted_files = os.listdir(unzip_dir)\n",
    "print(extracted_files)"
   ]
  },
  {
   "cell_type": "code",
   "execution_count": 5,
   "id": "e53b0fe6",
   "metadata": {
    "execution": {
     "iopub.execute_input": "2024-08-04T15:05:32.966019Z",
     "iopub.status.busy": "2024-08-04T15:05:32.965388Z",
     "iopub.status.idle": "2024-08-04T15:05:32.970955Z",
     "shell.execute_reply": "2024-08-04T15:05:32.970188Z"
    },
    "executionInfo": {
     "elapsed": 500,
     "status": "ok",
     "timestamp": 1722260080813,
     "user": {
      "displayName": "Ni Me Sh",
      "userId": "06044184675512964201"
     },
     "user_tz": -345
    },
    "id": "7xayLOqgF1eO",
    "papermill": {
     "duration": 0.015477,
     "end_time": "2024-08-04T15:05:32.973016",
     "exception": false,
     "start_time": "2024-08-04T15:05:32.957539",
     "status": "completed"
    },
    "tags": []
   },
   "outputs": [],
   "source": [
    "import zipfile\n",
    "\n",
    "zip_file_path = 'test_dataset.zip'\n",
    "extract_dir = 'test'\n",
    "\n",
    "with zipfile.ZipFile(zip_file_path, 'r') as zip_ref:\n",
    "  zip_ref.extractall(extract_dir)\n"
   ]
  },
  {
   "cell_type": "markdown",
   "id": "91f795f9",
   "metadata": {},
   "source": [
    "## Data Prepration And Tranform Images For More Augmentation During Training"
   ]
  },
  {
   "cell_type": "code",
   "execution_count": 6,
   "id": "c5ecfe62",
   "metadata": {
    "execution": {
     "iopub.execute_input": "2024-08-04T15:05:32.988468Z",
     "iopub.status.busy": "2024-08-04T15:05:32.987851Z",
     "iopub.status.idle": "2024-08-04T15:06:33.249956Z",
     "shell.execute_reply": "2024-08-04T15:06:33.248948Z"
    },
    "executionInfo": {
     "elapsed": 470,
     "status": "ok",
     "timestamp": 1722260489143,
     "user": {
      "displayName": "Ni Me Sh",
      "userId": "06044184675512964201"
     },
     "user_tz": -345
    },
    "id": "87QCUqpXO_2v",
    "outputId": "c4ca7562-0137-483f-ea81-3fc2dd53fe1c",
    "papermill": {
     "duration": 60.272468,
     "end_time": "2024-08-04T15:06:33.252421",
     "exception": false,
     "start_time": "2024-08-04T15:05:32.979953",
     "status": "completed"
    },
    "tags": []
   },
   "outputs": [],
   "source": [
    "# Define directories\n",
    "train_dir = '/kaggle/input/newdataset/seendataset(416)/bird dataset/train'\n",
    "val_dir = '/kaggle/input/newdataset/seendataset(416)/bird dataset/val'\n",
    "\n",
    "# Define image transformations\n",
    "data_transforms = {\n",
    "    'train': transforms.Compose([\n",
    "#         transforms.Resize((416,416)),\n",
    "        transforms.RandomRotation(degrees=(0,360)),\n",
    "        transforms.RandomHorizontalFlip(),\n",
    "        transforms.RandomVerticalFlip(),\n",
    "        transforms.ToTensor(),\n",
    "        transforms.Normalize([0.49139968,0.48215841,0.44653091], [0.24703223,0.24348513,0.26158784])\n",
    "    ]),\n",
    "    'val': transforms.Compose([\n",
    "#         transforms.Resize((416,416)),\n",
    "        # transforms.RandomRotation(degrees=(0,360)),\n",
    "        transforms.ToTensor(),\n",
    "        transforms.Normalize([0.49139968,0.48215841,0.44653091], [0.24703223,0.24348513,0.26158784])\n",
    "    ]),\n",
    "}\n",
    "\n",
    "image_datasets = {x: datasets.ImageFolder(os.path.join('/kaggle/input/newdataset/seendataset(416)/bird dataset', x), data_transforms[x]) for x in ['train', 'val']}\n",
    "dataloaders = {x: DataLoader(image_datasets[x], batch_size=64, shuffle=True, num_workers=4, pin_memory=True) for x in ['train', 'val']}\n",
    "dataset_sizes = {x: len(image_datasets[x]) for x in ['train', 'val']}\n",
    "class_names = image_datasets['train'].classes\n",
    "\n",
    "# device = torch.device(\"cuda:0\" if torch.cuda.is_available() else \"cpu\")\n"
   ]
  },
  {
   "cell_type": "markdown",
   "id": "738d513d",
   "metadata": {},
   "source": [
    "## Define Classes"
   ]
  },
  {
   "cell_type": "code",
   "execution_count": 7,
   "id": "7eafca16",
   "metadata": {
    "execution": {
     "iopub.execute_input": "2024-08-04T15:06:33.268666Z",
     "iopub.status.busy": "2024-08-04T15:06:33.268356Z",
     "iopub.status.idle": "2024-08-04T15:06:33.276424Z",
     "shell.execute_reply": "2024-08-04T15:06:33.275480Z"
    },
    "executionInfo": {
     "elapsed": 6,
     "status": "aborted",
     "timestamp": 1722256703777,
     "user": {
      "displayName": "Ni Me Sh",
      "userId": "06044184675512964201"
     },
     "user_tz": -345
    },
    "id": "HNtoP4FFpU5d",
    "papermill": {
     "duration": 0.018309,
     "end_time": "2024-08-04T15:06:33.278305",
     "exception": false,
     "start_time": "2024-08-04T15:06:33.259996",
     "status": "completed"
    },
    "tags": []
   },
   "outputs": [
    {
     "data": {
      "text/plain": [
       "['Asian-Green-Bee-Eater',\n",
       " 'Brown-Headed-Barbet',\n",
       " 'Cattle-Egret',\n",
       " 'Common-Kingfisher',\n",
       " 'Common-Myna',\n",
       " 'Common-Rosefinch',\n",
       " 'Common-Tailorbird',\n",
       " 'Coppersmith-Barbet',\n",
       " 'Forest-Wagtail',\n",
       " 'Gray-Wagtail',\n",
       " 'Hoopoe',\n",
       " 'House-Crow',\n",
       " 'Indian-Grey-Hornbill',\n",
       " 'Indian-Peacock',\n",
       " 'Indian-Pitta',\n",
       " 'Indian-Roller',\n",
       " 'Jungle-Babbler',\n",
       " 'Northern-Lapwing',\n",
       " 'Red-Wattled-Lapwing',\n",
       " 'Ruddy-Shelduck',\n",
       " 'Rufous-Treepie',\n",
       " 'Sarus-Crane',\n",
       " 'White-Breasted-Kingfisher',\n",
       " 'White-Breasted-Waterhen',\n",
       " 'White-Wagtail']"
      ]
     },
     "execution_count": 7,
     "metadata": {},
     "output_type": "execute_result"
    }
   ],
   "source": [
    "class_names=['Asian-Green-Bee-Eater',\n",
    " 'Brown-Headed-Barbet',\n",
    " 'Cattle-Egret',\n",
    " 'Common-Kingfisher',\n",
    " 'Common-Myna',\n",
    " 'Common-Rosefinch',\n",
    " 'Common-Tailorbird',\n",
    " 'Coppersmith-Barbet',\n",
    " 'Forest-Wagtail',\n",
    " 'Gray-Wagtail',\n",
    " 'Hoopoe',\n",
    " 'House-Crow',\n",
    " 'Indian-Grey-Hornbill',\n",
    " 'Indian-Peacock',\n",
    " 'Indian-Pitta',\n",
    " 'Indian-Roller',\n",
    " 'Jungle-Babbler',\n",
    " 'Northern-Lapwing',\n",
    " 'Red-Wattled-Lapwing',\n",
    " 'Ruddy-Shelduck',\n",
    " 'Rufous-Treepie',\n",
    " 'Sarus-Crane',\n",
    " 'White-Breasted-Kingfisher',\n",
    " 'White-Breasted-Waterhen',\n",
    " 'White-Wagtail']\n",
    "class_names"
   ]
  },
  {
   "cell_type": "markdown",
   "id": "37105ddc",
   "metadata": {},
   "source": [
    "## Set Device As Cuda For Faster Computation"
   ]
  },
  {
   "cell_type": "code",
   "execution_count": 8,
   "id": "4445957f",
   "metadata": {
    "execution": {
     "iopub.execute_input": "2024-08-04T15:06:33.294217Z",
     "iopub.status.busy": "2024-08-04T15:06:33.293928Z",
     "iopub.status.idle": "2024-08-04T15:06:33.299584Z",
     "shell.execute_reply": "2024-08-04T15:06:33.298735Z"
    },
    "executionInfo": {
     "elapsed": 503,
     "status": "ok",
     "timestamp": 1722158959962,
     "user": {
      "displayName": "Ni Me Sh",
      "userId": "06044184675512964201"
     },
     "user_tz": -345
    },
    "id": "17YqvJ6aO_2v",
    "outputId": "7647566b-78c1-4b10-bb00-62b5ad91cd54",
    "papermill": {
     "duration": 0.015771,
     "end_time": "2024-08-04T15:06:33.301528",
     "exception": false,
     "start_time": "2024-08-04T15:06:33.285757",
     "status": "completed"
    },
    "tags": []
   },
   "outputs": [
    {
     "data": {
      "text/plain": [
       "'cuda'"
      ]
     },
     "execution_count": 8,
     "metadata": {},
     "output_type": "execute_result"
    }
   ],
   "source": [
    "device = 'cuda' if torch.cuda.is_available() else 'cpu'\n",
    "device"
   ]
  },
  {
   "cell_type": "code",
   "execution_count": 9,
   "id": "9f621961",
   "metadata": {
    "execution": {
     "iopub.execute_input": "2024-08-04T15:06:33.319008Z",
     "iopub.status.busy": "2024-08-04T15:06:33.318707Z",
     "iopub.status.idle": "2024-08-04T15:06:33.322496Z",
     "shell.execute_reply": "2024-08-04T15:06:33.321670Z"
    },
    "id": "sEjEc4zUO_2v",
    "papermill": {
     "duration": 0.014039,
     "end_time": "2024-08-04T15:06:33.324348",
     "exception": false,
     "start_time": "2024-08-04T15:06:33.310309",
     "status": "completed"
    },
    "tags": []
   },
   "outputs": [],
   "source": [
    "# device = torch.device(\"cuda:0\" if torch.cuda.is_available() else \"cpu\")"
   ]
  },
  {
   "cell_type": "markdown",
   "id": "000d0825",
   "metadata": {},
   "source": [
    "## Model Define"
   ]
  },
  {
   "cell_type": "code",
   "execution_count": 10,
   "id": "6f790d0c",
   "metadata": {
    "execution": {
     "iopub.execute_input": "2024-08-04T15:06:33.340828Z",
     "iopub.status.busy": "2024-08-04T15:06:33.340104Z",
     "iopub.status.idle": "2024-08-04T15:06:33.356333Z",
     "shell.execute_reply": "2024-08-04T15:06:33.355452Z"
    },
    "papermill": {
     "duration": 0.026539,
     "end_time": "2024-08-04T15:06:33.358342",
     "exception": false,
     "start_time": "2024-08-04T15:06:33.331803",
     "status": "completed"
    },
    "tags": []
   },
   "outputs": [],
   "source": [
    "class SEBlock(nn.Module):\n",
    "    def __init__(self, in_channels, reduction=16):\n",
    "        super(SEBlock, self).__init__()\n",
    "        self.fc1 = nn.Linear(in_channels, in_channels // reduction, bias=False)\n",
    "        self.fc2 = nn.Linear(in_channels // reduction, in_channels, bias=False)\n",
    "\n",
    "    def forward(self, x):\n",
    "        batch_size, num_channels, _, _ = x.size()\n",
    "        y = F.adaptive_avg_pool2d(x, 1).view(batch_size, num_channels)\n",
    "        y = F.relu(self.fc1(y))\n",
    "        y = torch.sigmoid(self.fc2(y)).view(batch_size, num_channels, 1, 1)\n",
    "        return x * y.expand_as(x)\n",
    "\n",
    "class BirdClassificationModel(nn.Module):\n",
    "    def __init__(self, output_dim):\n",
    "        super().__init__()\n",
    "\n",
    "        self.features = nn.Sequential(\n",
    "            nn.Conv2d(3, 128, 3, 2, 1),\n",
    "            nn.BatchNorm2d(128),\n",
    "            nn.ReLU(inplace=True),\n",
    "            SEBlock(128),\n",
    "            nn.MaxPool2d(2),\n",
    "\n",
    "            nn.Conv2d(128, 256, 3, padding=1, groups=128),  # Depthwise Convolution\n",
    "            nn.Conv2d(256, 256, 1),  # Pointwise Convolution\n",
    "            nn.BatchNorm2d(256),\n",
    "            nn.ReLU(inplace=True),\n",
    "            SEBlock(256),\n",
    "            nn.MaxPool2d(2),\n",
    "\n",
    "            nn.Conv2d(256, 256, 3, padding=1, groups=256),  # Depthwise Convolution\n",
    "            nn.Conv2d(256, 256, 1),  # Pointwise Convolution\n",
    "            nn.BatchNorm2d(256),\n",
    "            nn.ReLU(inplace=True),\n",
    "            SEBlock(256),\n",
    "            nn.MaxPool2d(2),\n",
    "\n",
    "            nn.Conv2d(256, 512, 3, padding=1, groups=256),  # Depthwise Convolution\n",
    "            nn.Conv2d(512, 512, 1),  # Pointwise Convolution\n",
    "            nn.BatchNorm2d(512),\n",
    "            nn.ReLU(inplace=True),\n",
    "            SEBlock(512),\n",
    "            nn.MaxPool2d(2),\n",
    "\n",
    "            nn.Conv2d(512, 512, 3, padding=1, groups=512),  # Depthwise Convolution\n",
    "            nn.Conv2d(512, 512, 1),  # Pointwise Convolution\n",
    "            nn.BatchNorm2d(512),\n",
    "            nn.ReLU(inplace=True),\n",
    "            SEBlock(512),\n",
    "            nn.MaxPool2d(2)\n",
    "        )\n",
    "\n",
    "        self.avgpool = nn.AdaptiveAvgPool2d((1, 1))\n",
    "\n",
    "        self.classifier = nn.Sequential(\n",
    "            nn.Dropout(0.3),\n",
    "            nn.Linear(512, 512),  \n",
    "            nn.BatchNorm1d(512),\n",
    "            nn.ReLU(inplace=True),\n",
    "            \n",
    "            nn.Dropout(0.3),\n",
    "            nn.Linear(512, 1024),\n",
    "            nn.BatchNorm1d(1024),\n",
    "            nn.ReLU(inplace=True),\n",
    "\n",
    "            nn.Linear(1024,output_dim),\n",
    "        )\n",
    "\n",
    "    def forward(self, x):\n",
    "        x = self.features(x)\n",
    "        x = self.avgpool(x)\n",
    "        h = x.view(x.shape[0], -1)\n",
    "        x = self.classifier(h)\n",
    "        return x, h\n"
   ]
  },
  {
   "cell_type": "markdown",
   "id": "804c3391",
   "metadata": {},
   "source": [
    "## Set Output Layer With 25 Classes"
   ]
  },
  {
   "cell_type": "code",
   "execution_count": 11,
   "id": "0fa6b560",
   "metadata": {
    "execution": {
     "iopub.execute_input": "2024-08-04T15:06:33.374810Z",
     "iopub.status.busy": "2024-08-04T15:06:33.374482Z",
     "iopub.status.idle": "2024-08-04T15:06:33.437181Z",
     "shell.execute_reply": "2024-08-04T15:06:33.436247Z"
    },
    "executionInfo": {
     "elapsed": 2862,
     "status": "ok",
     "timestamp": 1722260554725,
     "user": {
      "displayName": "Ni Me Sh",
      "userId": "06044184675512964201"
     },
     "user_tz": -345
    },
    "id": "838pPZnLHE79",
    "papermill": {
     "duration": 0.073339,
     "end_time": "2024-08-04T15:06:33.439379",
     "exception": false,
     "start_time": "2024-08-04T15:06:33.366040",
     "status": "completed"
    },
    "tags": []
   },
   "outputs": [],
   "source": [
    "OUTPUT_DIM = 25\n",
    "\n",
    "model = BirdClassificationModel(OUTPUT_DIM)"
   ]
  },
  {
   "cell_type": "markdown",
   "id": "facae5bf",
   "metadata": {},
   "source": [
    "## Visualize Model"
   ]
  },
  {
   "cell_type": "code",
   "execution_count": 12,
   "id": "330c030b",
   "metadata": {
    "execution": {
     "iopub.execute_input": "2024-08-04T15:06:33.455954Z",
     "iopub.status.busy": "2024-08-04T15:06:33.455631Z",
     "iopub.status.idle": "2024-08-04T15:06:33.610141Z",
     "shell.execute_reply": "2024-08-04T15:06:33.609071Z"
    },
    "executionInfo": {
     "elapsed": 3,
     "status": "ok",
     "timestamp": 1722260554726,
     "user": {
      "displayName": "Ni Me Sh",
      "userId": "06044184675512964201"
     },
     "user_tz": -345
    },
    "id": "Z8DVqGZzHE3G",
    "outputId": "cba6b01a-9a5e-4752-97a7-2a2022fcf8fe",
    "papermill": {
     "duration": 0.165287,
     "end_time": "2024-08-04T15:06:33.612512",
     "exception": false,
     "start_time": "2024-08-04T15:06:33.447225",
     "status": "completed"
    },
    "tags": []
   },
   "outputs": [
    {
     "name": "stdout",
     "output_type": "stream",
     "text": [
      "BirdClassificationModel(\n",
      "  (features): Sequential(\n",
      "    (0): Conv2d(3, 128, kernel_size=(3, 3), stride=(2, 2), padding=(1, 1))\n",
      "    (1): BatchNorm2d(128, eps=1e-05, momentum=0.1, affine=True, track_running_stats=True)\n",
      "    (2): ReLU(inplace=True)\n",
      "    (3): SEBlock(\n",
      "      (fc1): Linear(in_features=128, out_features=8, bias=False)\n",
      "      (fc2): Linear(in_features=8, out_features=128, bias=False)\n",
      "    )\n",
      "    (4): MaxPool2d(kernel_size=2, stride=2, padding=0, dilation=1, ceil_mode=False)\n",
      "    (5): Conv2d(128, 256, kernel_size=(3, 3), stride=(1, 1), padding=(1, 1), groups=128)\n",
      "    (6): Conv2d(256, 256, kernel_size=(1, 1), stride=(1, 1))\n",
      "    (7): BatchNorm2d(256, eps=1e-05, momentum=0.1, affine=True, track_running_stats=True)\n",
      "    (8): ReLU(inplace=True)\n",
      "    (9): SEBlock(\n",
      "      (fc1): Linear(in_features=256, out_features=16, bias=False)\n",
      "      (fc2): Linear(in_features=16, out_features=256, bias=False)\n",
      "    )\n",
      "    (10): MaxPool2d(kernel_size=2, stride=2, padding=0, dilation=1, ceil_mode=False)\n",
      "    (11): Conv2d(256, 256, kernel_size=(3, 3), stride=(1, 1), padding=(1, 1), groups=256)\n",
      "    (12): Conv2d(256, 256, kernel_size=(1, 1), stride=(1, 1))\n",
      "    (13): BatchNorm2d(256, eps=1e-05, momentum=0.1, affine=True, track_running_stats=True)\n",
      "    (14): ReLU(inplace=True)\n",
      "    (15): SEBlock(\n",
      "      (fc1): Linear(in_features=256, out_features=16, bias=False)\n",
      "      (fc2): Linear(in_features=16, out_features=256, bias=False)\n",
      "    )\n",
      "    (16): MaxPool2d(kernel_size=2, stride=2, padding=0, dilation=1, ceil_mode=False)\n",
      "    (17): Conv2d(256, 512, kernel_size=(3, 3), stride=(1, 1), padding=(1, 1), groups=256)\n",
      "    (18): Conv2d(512, 512, kernel_size=(1, 1), stride=(1, 1))\n",
      "    (19): BatchNorm2d(512, eps=1e-05, momentum=0.1, affine=True, track_running_stats=True)\n",
      "    (20): ReLU(inplace=True)\n",
      "    (21): SEBlock(\n",
      "      (fc1): Linear(in_features=512, out_features=32, bias=False)\n",
      "      (fc2): Linear(in_features=32, out_features=512, bias=False)\n",
      "    )\n",
      "    (22): MaxPool2d(kernel_size=2, stride=2, padding=0, dilation=1, ceil_mode=False)\n",
      "    (23): Conv2d(512, 512, kernel_size=(3, 3), stride=(1, 1), padding=(1, 1), groups=512)\n",
      "    (24): Conv2d(512, 512, kernel_size=(1, 1), stride=(1, 1))\n",
      "    (25): BatchNorm2d(512, eps=1e-05, momentum=0.1, affine=True, track_running_stats=True)\n",
      "    (26): ReLU(inplace=True)\n",
      "    (27): SEBlock(\n",
      "      (fc1): Linear(in_features=512, out_features=32, bias=False)\n",
      "      (fc2): Linear(in_features=32, out_features=512, bias=False)\n",
      "    )\n",
      "    (28): MaxPool2d(kernel_size=2, stride=2, padding=0, dilation=1, ceil_mode=False)\n",
      "  )\n",
      "  (avgpool): AdaptiveAvgPool2d(output_size=(1, 1))\n",
      "  (classifier): Sequential(\n",
      "    (0): Dropout(p=0.3, inplace=False)\n",
      "    (1): Linear(in_features=512, out_features=512, bias=True)\n",
      "    (2): BatchNorm1d(512, eps=1e-05, momentum=0.1, affine=True, track_running_stats=True)\n",
      "    (3): ReLU(inplace=True)\n",
      "    (4): Dropout(p=0.3, inplace=False)\n",
      "    (5): Linear(in_features=512, out_features=1024, bias=True)\n",
      "    (6): BatchNorm1d(1024, eps=1e-05, momentum=0.1, affine=True, track_running_stats=True)\n",
      "    (7): ReLU(inplace=True)\n",
      "    (8): Linear(in_features=1024, out_features=25, bias=True)\n",
      "  )\n",
      ")\n"
     ]
    }
   ],
   "source": [
    "#print the model\n",
    "\n",
    "print(model)"
   ]
  },
  {
   "cell_type": "markdown",
   "id": "8566fb2a",
   "metadata": {},
   "source": [
    "## Print Total Parameters In Model"
   ]
  },
  {
   "cell_type": "code",
   "execution_count": 13,
   "id": "4da6e4ec",
   "metadata": {
    "execution": {
     "iopub.execute_input": "2024-08-04T15:06:33.629786Z",
     "iopub.status.busy": "2024-08-04T15:06:33.629438Z",
     "iopub.status.idle": "2024-08-04T15:06:33.635021Z",
     "shell.execute_reply": "2024-08-04T15:06:33.634149Z"
    },
    "executionInfo": {
     "elapsed": 3,
     "status": "ok",
     "timestamp": 1722260557415,
     "user": {
      "displayName": "Ni Me Sh",
      "userId": "06044184675512964201"
     },
     "user_tz": -345
    },
    "id": "vYjvnKOzIRWo",
    "outputId": "1db22a2c-ab7e-4161-8a4c-13bc29fed9b8",
    "papermill": {
     "duration": 0.016394,
     "end_time": "2024-08-04T15:06:33.637020",
     "exception": false,
     "start_time": "2024-08-04T15:06:33.620626",
     "status": "completed"
    },
    "tags": []
   },
   "outputs": [
    {
     "name": "stdout",
     "output_type": "stream",
     "text": [
      "The model has 1,579,801 trainable parameters\n"
     ]
    }
   ],
   "source": [
    "#print total trainable parameters\n",
    "def count_parameters(model):\n",
    "    return sum(p.numel() for p in model.parameters() if p.requires_grad)\n",
    "\n",
    "\n",
    "print(f'The model has {count_parameters(model):,} trainable parameters')"
   ]
  },
  {
   "cell_type": "markdown",
   "id": "11539a2a",
   "metadata": {},
   "source": [
    "## Set Model To Train At GPU And Define Loss Function As Well As Optimizer With Learning rate, weight_decay And Scheduler"
   ]
  },
  {
   "cell_type": "code",
   "execution_count": 14,
   "id": "dcbc7bb4",
   "metadata": {
    "execution": {
     "iopub.execute_input": "2024-08-04T15:06:33.654193Z",
     "iopub.status.busy": "2024-08-04T15:06:33.653929Z",
     "iopub.status.idle": "2024-08-04T15:06:33.661275Z",
     "shell.execute_reply": "2024-08-04T15:06:33.660429Z"
    },
    "executionInfo": {
     "elapsed": 499,
     "status": "ok",
     "timestamp": 1722260560236,
     "user": {
      "displayName": "Ni Me Sh",
      "userId": "06044184675512964201"
     },
     "user_tz": -345
    },
    "id": "2Rq3CWNUI4KN",
    "papermill": {
     "duration": 0.018062,
     "end_time": "2024-08-04T15:06:33.663145",
     "exception": false,
     "start_time": "2024-08-04T15:06:33.645083",
     "status": "completed"
    },
    "tags": []
   },
   "outputs": [],
   "source": [
    "model= model.to(device)\n",
    "\n",
    "# Define loss function and optimizer\n",
    "criterion = nn.CrossEntropyLoss()\n",
    "\n",
    "# Define optimizer \n",
    "optimizer = optim.AdamW(model.parameters(), lr=0.001, weight_decay=1e-5)\n",
    "\n",
    "scheduler = optim.lr_scheduler.ReduceLROnPlateau(optimizer, mode='min', factor=0.1, patience=5, verbose=True)\n"
   ]
  },
  {
   "cell_type": "markdown",
   "id": "37701537",
   "metadata": {},
   "source": [
    "## Start Training With Early Stopping to Monitor Model Underfitting and Underfitting With Patience 5"
   ]
  },
  {
   "cell_type": "code",
   "execution_count": 15,
   "id": "17e2827a",
   "metadata": {
    "execution": {
     "iopub.execute_input": "2024-08-04T15:06:33.680586Z",
     "iopub.status.busy": "2024-08-04T15:06:33.680306Z",
     "iopub.status.idle": "2024-08-04T18:14:40.512239Z",
     "shell.execute_reply": "2024-08-04T18:14:40.511004Z"
    },
    "id": "JtDSORa3O_2w",
    "outputId": "6ef37265-5df1-4b78-f3ab-411d95bf14ed",
    "papermill": {
     "duration": 11286.843419,
     "end_time": "2024-08-04T18:14:40.514526",
     "exception": false,
     "start_time": "2024-08-04T15:06:33.671107",
     "status": "completed"
    },
    "tags": []
   },
   "outputs": [
    {
     "name": "stdout",
     "output_type": "stream",
     "text": [
      "Epoch 0/39\n",
      "----------\n",
      "train Loss: 2.1531 Acc: 0.3562\n",
      "val Loss: 1.5953 Acc: 0.5181\n",
      "\n",
      "Epoch 1/39\n",
      "----------\n",
      "train Loss: 1.2920 Acc: 0.6065\n",
      "val Loss: 1.1315 Acc: 0.6528\n",
      "\n",
      "Epoch 2/39\n",
      "----------\n",
      "train Loss: 0.9819 Acc: 0.7020\n",
      "val Loss: 0.7239 Acc: 0.7714\n",
      "\n",
      "Epoch 3/39\n",
      "----------\n",
      "train Loss: 0.8127 Acc: 0.7526\n",
      "val Loss: 0.7387 Acc: 0.7748\n",
      "\n",
      "Epoch 4/39\n",
      "----------\n",
      "train Loss: 0.7076 Acc: 0.7828\n",
      "val Loss: 0.5247 Acc: 0.8406\n",
      "\n",
      "Epoch 5/39\n",
      "----------\n",
      "train Loss: 0.6270 Acc: 0.8086\n",
      "val Loss: 0.6243 Acc: 0.8137\n",
      "\n",
      "Epoch 6/39\n",
      "----------\n",
      "train Loss: 0.5820 Acc: 0.8217\n",
      "val Loss: 0.5075 Acc: 0.8473\n",
      "\n",
      "Epoch 7/39\n",
      "----------\n",
      "train Loss: 0.5321 Acc: 0.8343\n",
      "val Loss: 0.4070 Acc: 0.8714\n",
      "\n",
      "Epoch 8/39\n",
      "----------\n",
      "train Loss: 0.4741 Acc: 0.8538\n",
      "val Loss: 0.4171 Acc: 0.8710\n",
      "\n",
      "Epoch 9/39\n",
      "----------\n",
      "train Loss: 0.4498 Acc: 0.8610\n",
      "val Loss: 0.3500 Acc: 0.8965\n",
      "\n",
      "Epoch 10/39\n",
      "----------\n",
      "train Loss: 0.4135 Acc: 0.8708\n",
      "val Loss: 0.3925 Acc: 0.8802\n",
      "\n",
      "Epoch 11/39\n",
      "----------\n",
      "train Loss: 0.3852 Acc: 0.8783\n",
      "val Loss: 0.3462 Acc: 0.8982\n",
      "\n",
      "Epoch 12/39\n",
      "----------\n",
      "train Loss: 0.3510 Acc: 0.8907\n",
      "val Loss: 0.2809 Acc: 0.9152\n",
      "\n",
      "Epoch 13/39\n",
      "----------\n",
      "train Loss: 0.3443 Acc: 0.8922\n",
      "val Loss: 0.2877 Acc: 0.9148\n",
      "\n",
      "Epoch 14/39\n",
      "----------\n",
      "train Loss: 0.3182 Acc: 0.8998\n",
      "val Loss: 0.3099 Acc: 0.9048\n",
      "\n",
      "Epoch 15/39\n",
      "----------\n",
      "train Loss: 0.3010 Acc: 0.9037\n",
      "val Loss: 0.2986 Acc: 0.9117\n",
      "\n",
      "Epoch 16/39\n",
      "----------\n",
      "train Loss: 0.3016 Acc: 0.9043\n",
      "val Loss: 0.2604 Acc: 0.9226\n",
      "\n",
      "Epoch 17/39\n",
      "----------\n",
      "train Loss: 0.2638 Acc: 0.9159\n",
      "val Loss: 0.2542 Acc: 0.9225\n",
      "\n",
      "Epoch 18/39\n",
      "----------\n",
      "train Loss: 0.2608 Acc: 0.9164\n",
      "val Loss: 0.2812 Acc: 0.9173\n",
      "\n",
      "Epoch 19/39\n",
      "----------\n",
      "train Loss: 0.2393 Acc: 0.9251\n",
      "val Loss: 0.2503 Acc: 0.9306\n",
      "\n",
      "Epoch 20/39\n",
      "----------\n",
      "train Loss: 0.2390 Acc: 0.9238\n",
      "val Loss: 0.2254 Acc: 0.9349\n",
      "\n",
      "Epoch 21/39\n",
      "----------\n",
      "train Loss: 0.2307 Acc: 0.9262\n",
      "val Loss: 0.2422 Acc: 0.9310\n",
      "\n",
      "Epoch 22/39\n",
      "----------\n",
      "train Loss: 0.2215 Acc: 0.9294\n",
      "val Loss: 0.1996 Acc: 0.9442\n",
      "\n",
      "Epoch 23/39\n",
      "----------\n",
      "train Loss: 0.2062 Acc: 0.9337\n",
      "val Loss: 0.1974 Acc: 0.9436\n",
      "\n",
      "Epoch 24/39\n",
      "----------\n",
      "train Loss: 0.2010 Acc: 0.9361\n",
      "val Loss: 0.2446 Acc: 0.9305\n",
      "\n",
      "Epoch 25/39\n",
      "----------\n",
      "train Loss: 0.1957 Acc: 0.9367\n",
      "val Loss: 0.2258 Acc: 0.9360\n",
      "\n",
      "Epoch 26/39\n",
      "----------\n",
      "train Loss: 0.1823 Acc: 0.9412\n",
      "val Loss: 0.2238 Acc: 0.9365\n",
      "\n",
      "Epoch 27/39\n",
      "----------\n",
      "train Loss: 0.1915 Acc: 0.9403\n",
      "val Loss: 0.1893 Acc: 0.9466\n",
      "\n",
      "Epoch 28/39\n",
      "----------\n",
      "train Loss: 0.1702 Acc: 0.9459\n",
      "val Loss: 0.2010 Acc: 0.9420\n",
      "\n",
      "Epoch 29/39\n",
      "----------\n",
      "train Loss: 0.1771 Acc: 0.9437\n",
      "val Loss: 0.1878 Acc: 0.9468\n",
      "\n",
      "Epoch 30/39\n",
      "----------\n",
      "train Loss: 0.1534 Acc: 0.9488\n",
      "val Loss: 0.1806 Acc: 0.9506\n",
      "\n",
      "Epoch 31/39\n",
      "----------\n",
      "train Loss: 0.1534 Acc: 0.9511\n",
      "val Loss: 0.1791 Acc: 0.9505\n",
      "\n",
      "Epoch 32/39\n",
      "----------\n",
      "train Loss: 0.1515 Acc: 0.9510\n",
      "val Loss: 0.1984 Acc: 0.9480\n",
      "\n",
      "Epoch 33/39\n",
      "----------\n",
      "train Loss: 0.1427 Acc: 0.9544\n",
      "val Loss: 0.1589 Acc: 0.9570\n",
      "\n",
      "Epoch 34/39\n",
      "----------\n",
      "train Loss: 0.1564 Acc: 0.9498\n",
      "val Loss: 0.1587 Acc: 0.9537\n",
      "\n",
      "Epoch 35/39\n",
      "----------\n",
      "train Loss: 0.1353 Acc: 0.9557\n",
      "val Loss: 0.1692 Acc: 0.9548\n",
      "\n",
      "Epoch 36/39\n",
      "----------\n",
      "train Loss: 0.1337 Acc: 0.9571\n",
      "val Loss: 0.1716 Acc: 0.9542\n",
      "\n",
      "Epoch 37/39\n",
      "----------\n",
      "train Loss: 0.1291 Acc: 0.9583\n",
      "val Loss: 0.1838 Acc: 0.9512\n",
      "\n",
      "Epoch 38/39\n",
      "----------\n",
      "train Loss: 0.1353 Acc: 0.9566\n",
      "val Loss: 0.1835 Acc: 0.9520\n",
      "\n",
      "Epoch 39/39\n",
      "----------\n",
      "train Loss: 0.1194 Acc: 0.9602\n",
      "val Loss: 0.1891 Acc: 0.9496\n",
      "Early stopping at epoch 39 with best validation loss: 0.1587\n"
     ]
    }
   ],
   "source": [
    "def train_model(model, criterion, optimizer, dataloaders, dataset_sizes, device, num_epochs=40, patience=5, scheduler=None):\n",
    "    best_model_wts = copy.deepcopy(model.state_dict())\n",
    "    best_acc = 0.0\n",
    "\n",
    "    train_loss_history = []\n",
    "    train_acc_history = []\n",
    "    val_loss_history = []\n",
    "    val_acc_history = []\n",
    "\n",
    "    best_val_loss = float('inf')\n",
    "    epochs_no_improve = 0\n",
    "\n",
    "    for epoch in range(num_epochs):\n",
    "        print(f'Epoch {epoch}/{num_epochs - 1}')\n",
    "        print('-' * 10)\n",
    "\n",
    "        for phase in ['train', 'val']:\n",
    "            if phase == 'train':\n",
    "                model.train()  # Set model to training mode\n",
    "            else:\n",
    "                model.eval()  # Set model to evaluate mode\n",
    "\n",
    "            running_loss = 0.0\n",
    "            running_corrects = 0\n",
    "\n",
    "            # Iterate over data.\n",
    "            for inputs, labels in dataloaders[phase]:\n",
    "                inputs = inputs.to(device)\n",
    "                labels = labels.to(device)\n",
    "\n",
    "                # Zero the parameter gradients\n",
    "                optimizer.zero_grad()\n",
    "\n",
    "                # Forward pass\n",
    "                with torch.set_grad_enabled(phase == 'train'):\n",
    "                    outputs = model(inputs)\n",
    "                    # Check if 'outputs' is a tuple\n",
    "                    if isinstance(outputs, tuple):\n",
    "                        outputs = outputs[0]\n",
    "                    _, preds = torch.max(outputs, 1)\n",
    "                    loss = criterion(outputs, labels)\n",
    "\n",
    "                    # Backward pass + optimize only if in training phase\n",
    "                    if phase == 'train':\n",
    "                        loss.backward()\n",
    "                        optimizer.step()\n",
    "\n",
    "                # Statistics\n",
    "                running_loss += loss.item() * inputs.size(0)\n",
    "                running_corrects += torch.sum(preds == labels.data)\n",
    "\n",
    "            epoch_loss = running_loss / dataset_sizes[phase]\n",
    "            epoch_acc = running_corrects.double() / dataset_sizes[phase]\n",
    "\n",
    "            print(f'{phase} Loss: {epoch_loss:.4f} Acc: {epoch_acc:.4f}')\n",
    "\n",
    "            if phase == 'train':\n",
    "                train_loss_history.append(epoch_loss)\n",
    "                train_acc_history.append(epoch_acc.item())\n",
    "            else:\n",
    "                val_loss_history.append(epoch_loss)\n",
    "                val_acc_history.append(epoch_acc.item())\n",
    "\n",
    "                # Early Stopping\n",
    "                if epoch_loss < best_val_loss:\n",
    "                    best_val_loss = epoch_loss\n",
    "                    best_acc = epoch_acc\n",
    "                    best_model_wts = copy.deepcopy(model.state_dict())\n",
    "                    epochs_no_improve = 0\n",
    "                else:\n",
    "                    epochs_no_improve += 1\n",
    "\n",
    "                if scheduler:\n",
    "                    scheduler.step(epoch_loss)  # Use validation loss to adjust learning rate\n",
    "\n",
    "                if epochs_no_improve >= patience:\n",
    "                    print(f'Early stopping at epoch {epoch} with best validation loss: {best_val_loss:.4f}')\n",
    "                    model.load_state_dict(best_model_wts)\n",
    "                    history = {\n",
    "                        'train_loss': train_loss_history,\n",
    "                        'train_acc': train_acc_history,\n",
    "                        'val_loss': val_loss_history,\n",
    "                        'val_acc': val_acc_history\n",
    "                    }\n",
    "                    return model, history\n",
    "\n",
    "        print()\n",
    "\n",
    "    print(f'Best val Acc: {best_acc:.4f}')\n",
    "    model.load_state_dict(best_model_wts)\n",
    "\n",
    "    # Save the training history\n",
    "    history = {\n",
    "        'train_loss': train_loss_history,\n",
    "        'train_acc': train_acc_history,\n",
    "        'val_loss': val_loss_history,\n",
    "        'val_acc': val_acc_history\n",
    "    }\n",
    "\n",
    "    return model, history\n",
    "\n",
    "# Assuming 'model', 'criterion', 'dataloaders', 'dataset_sizes', and 'device' are already defined\n",
    "model, history = train_model(model, criterion, optimizer, dataloaders, dataset_sizes, device, num_epochs=40, patience=5, scheduler=scheduler)\n"
   ]
  },
  {
   "cell_type": "markdown",
   "id": "732896f3",
   "metadata": {},
   "source": [
    "## Plot Training History"
   ]
  },
  {
   "cell_type": "code",
   "execution_count": 16,
   "id": "682b4142",
   "metadata": {
    "execution": {
     "iopub.execute_input": "2024-08-04T18:14:40.545748Z",
     "iopub.status.busy": "2024-08-04T18:14:40.544873Z",
     "iopub.status.idle": "2024-08-04T18:14:41.078146Z",
     "shell.execute_reply": "2024-08-04T18:14:41.076119Z"
    },
    "executionInfo": {
     "elapsed": 1913,
     "status": "ok",
     "timestamp": 1722260053399,
     "user": {
      "displayName": "Ni Me Sh",
      "userId": "06044184675512964201"
     },
     "user_tz": -345
    },
    "id": "VDUYIZ5PS_0n",
    "outputId": "6efdddba-6d05-4bf8-c453-0e8571cac3b7",
    "papermill": {
     "duration": 0.551393,
     "end_time": "2024-08-04T18:14:41.080720",
     "exception": false,
     "start_time": "2024-08-04T18:14:40.529327",
     "status": "completed"
    },
    "tags": []
   },
   "outputs": [
    {
     "data": {
      "image/png": "[encoded data removed]",
      "text/plain": [
       "<Figure size 1200x400 with 2 Axes>"
      ]
     },
     "metadata": {},
     "output_type": "display_data"
    }
   ],
   "source": [
    "def plot_training_history(history):\n",
    "    epochs = range(1, len(history['train_loss']) + 1)\n",
    "\n",
    "    plt.figure(figsize=(12, 4))\n",
    "\n",
    "    # Plot training & validation loss values\n",
    "    plt.subplot(1, 2, 1)\n",
    "    plt.plot(epochs, history['train_loss'], label='Train Loss')\n",
    "    plt.plot(epochs, history['val_loss'], label='Val Loss')\n",
    "    plt.title('Loss')\n",
    "    plt.xlabel('Epochs')\n",
    "    plt.ylabel('Loss')\n",
    "    plt.legend()\n",
    "\n",
    "    # Plot training & validation accuracy values\n",
    "    plt.subplot(1, 2, 2)\n",
    "    plt.plot(epochs, history['train_acc'], label='Train Acc')\n",
    "    plt.plot(epochs, history['val_acc'], label='Val Acc')\n",
    "    plt.title('Accuracy')\n",
    "    plt.xlabel('Epochs')\n",
    "    plt.ylabel('Accuracy')\n",
    "    plt.legend()\n",
    "\n",
    "    plt.show()\n",
    "\n",
    "# Plot the training history\n",
    "plot_training_history(history)\n"
   ]
  },
  {
   "cell_type": "markdown",
   "id": "ef470627",
   "metadata": {},
   "source": [
    "## Save Model "
   ]
  },
  {
   "cell_type": "code",
   "execution_count": 17,
   "id": "768899e4",
   "metadata": {
    "execution": {
     "iopub.execute_input": "2024-08-04T18:14:41.123893Z",
     "iopub.status.busy": "2024-08-04T18:14:41.122868Z",
     "iopub.status.idle": "2024-08-04T18:14:41.155194Z",
     "shell.execute_reply": "2024-08-04T18:14:41.154074Z"
    },
    "executionInfo": {
     "elapsed": 1918,
     "status": "ok",
     "timestamp": 1722260061147,
     "user": {
      "displayName": "Ni Me Sh",
      "userId": "06044184675512964201"
     },
     "user_tz": -345
    },
    "id": "W_czp831O_2w",
    "papermill": {
     "duration": 0.058021,
     "end_time": "2024-08-04T18:14:41.157880",
     "exception": false,
     "start_time": "2024-08-04T18:14:41.099859",
     "status": "completed"
    },
    "tags": []
   },
   "outputs": [],
   "source": [
    "torch.save(model.state_dict(), 'bird_classification_model(extra-small).pth')"
   ]
  },
  {
   "cell_type": "markdown",
   "id": "ae149b83",
   "metadata": {},
   "source": [
    "## Convert Model to Script Type"
   ]
  },
  {
   "cell_type": "code",
   "execution_count": null,
   "id": "e6c623b9",
   "metadata": {},
   "outputs": [],
   "source": [
    "scripted_model = torch.jit.script(model)\n",
    "\n",
    "# Save the scripted model to a file\n",
    "scripted_model.save(\"scripted_bird_classification_model.pt\")"
   ]
  },
  {
   "cell_type": "code",
   "execution_count": null,
   "id": "f11ebf34",
   "metadata": {
    "execution": {
     "iopub.execute_input": "2024-08-04T18:14:41.205452Z",
     "iopub.status.busy": "2024-08-04T18:14:41.205129Z",
     "iopub.status.idle": "2024-08-04T18:15:36.873809Z",
     "shell.execute_reply": "2024-08-04T18:15:36.872849Z"
    },
    "papermill": {
     "duration": 55.709882,
     "end_time": "2024-08-04T18:15:36.891840",
     "exception": false,
     "start_time": "2024-08-04T18:14:41.181958",
     "status": "completed"
    },
    "tags": []
   },
   "outputs": [],
   "source": [
    "\n",
    "# # load model in gpu for faster computution\n",
    "# device = torch.device(\"cuda\" if torch.cuda.is_available() else \"cpu\")\n",
    "# model.load_state_dict(torch.load('/kaggle/working/bird_classification_model(extra-small).pth', map_location=device))\n",
    "# model.to(device)\n",
    "# model.eval()\n",
    "# #transform data into model input size 416*416 and normalize\n",
    "# data_transforms = {\n",
    "#     'test': transforms.Compose([\n",
    "#         transforms.RandomRotation(0),  \n",
    "#         transforms.Resize((416, 416)),\n",
    "#         transforms.ToTensor(),\n",
    "#         transforms.Normalize([0.49139968, 0.48215841, 0.44653091], [0.24703223, 0.24348513, 0.26158784])\n",
    "#     ])\n",
    "# }\n",
    "\n",
    "# def predict_bird_species(model, img_path):\n",
    "#     img = Image.open(img_path)\n",
    "#     transform = data_transforms['test']\n",
    "#     img = transform(img).unsqueeze(0).to(device)\n",
    "\n",
    "#     with torch.no_grad():\n",
    "#         outputs = model(img)\n",
    "#         if isinstance(outputs, tuple):\n",
    "#             outputs = outputs[0]\n",
    "#         _, preds = torch.max(outputs, 1)\n",
    "\n",
    "#     return preds[0].item()\n",
    "\n",
    "# def evaluate_model_on_directory(model, directory_path):\n",
    "#     all_preds = []\n",
    "#     all_labels = []\n",
    "    \n",
    "#     for root, _, files in os.walk(directory_path):\n",
    "#         class_name = os.path.basename(root)  # Assume the folder name is the class label\n",
    "#         if class_name not in class_names:  # Skip directories that are not in the class names\n",
    "#             continue\n",
    "        \n",
    "#         label = class_names.index(class_name)\n",
    "        \n",
    "#         for filename in files:\n",
    "#             if filename.endswith(\".jpg\") or filename.endswith(\".png\"):  # Add more image formats if needed\n",
    "#                 img_path = os.path.join(root, filename)\n",
    "#                 predicted_label = predict_bird_species(model, img_path)\n",
    "#                 all_preds.append(predicted_label)\n",
    "#                 all_labels.append(label)\n",
    "\n",
    "#     return all_labels, all_preds\n",
    "\n",
    "# #directory path of test images\n",
    "# directory_path = '/kaggle/input/newdataset/seendataset(416)/bird dataset/val'\n",
    "# all_labels, all_preds = evaluate_model_on_directory(model, directory_path)\n",
    "\n",
    "# # Compute confusion matrix\n",
    "# conf_matrix = confusion_matrix(all_labels, all_preds)\n",
    "\n",
    "# # Print confusion matrix and classification report\n",
    "# print(\"Confusion Matrix:\")\n",
    "# print(conf_matrix)\n",
    "\n",
    "# #precision, recall, F1-score for each class\n",
    "# print(\"\\nClassification Report:\")\n",
    "# print(classification_report(all_labels, all_preds, target_names=class_names))\n"
   ]
  },
  {
   "cell_type": "code",
   "execution_count": null,
   "id": "87c02102",
   "metadata": {
    "execution": {
     "iopub.execute_input": "2024-08-04T18:15:36.923717Z",
     "iopub.status.busy": "2024-08-04T18:15:36.923392Z",
     "iopub.status.idle": "2024-08-04T18:15:39.487663Z",
     "shell.execute_reply": "2024-08-04T18:15:39.486743Z"
    },
    "papermill": {
     "duration": 2.583793,
     "end_time": "2024-08-04T18:15:39.491010",
     "exception": false,
     "start_time": "2024-08-04T18:15:36.907217",
     "status": "completed"
    },
    "tags": []
   },
   "outputs": [],
   "source": [
    "# import seaborn as sns\n",
    "# def plot_confusion_matrix(conf_matrix, class_names):\n",
    "#     plt.figure(figsize=(12, 8))\n",
    "#     sns.heatmap(conf_matrix, annot=True, fmt=\"d\", cmap=\"Blues\", xticklabels=class_names, yticklabels=class_names)\n",
    "#     plt.xlabel('Predicted Labels')\n",
    "#     plt.ylabel('True Labels')\n",
    "#     plt.title('Confusion Matrix')\n",
    "#     plt.show()\n",
    "\n",
    "# # Call the function to plot the confusion matrix\n",
    "# plot_confusion_matrix(conf_matrix, class_names)"
   ]
  }
 ],
 "metadata": {
  "accelerator": "GPU",
  "colab": {
   "gpuType": "T4",
   "provenance": []
  },
  "kaggle": {
   "accelerator": "gpu",
   "dataSources": [
    {
     "datasetId": 5480902,
     "sourceId": 9084009,
     "sourceType": "datasetVersion"
    },
    {
     "datasetId": 5483781,
     "sourceId": 9088094,
     "sourceType": "datasetVersion"
    },
    {
     "datasetId": 5484813,
     "sourceId": 9089531,
     "sourceType": "datasetVersion"
    },
    {
     "datasetId": 5488202,
     "sourceId": 9094401,
     "sourceType": "datasetVersion"
    },
    {
     "datasetId": 5489114,
     "sourceId": 9095633,
     "sourceType": "datasetVersion"
    },
    {
     "modelId": 97918,
     "modelInstanceId": 73036,
     "sourceId": 86960,
     "sourceType": "modelInstanceVersion"
    },
    {
     "modelId": 97968,
     "modelInstanceId": 73083,
     "sourceId": 87017,
     "sourceType": "modelInstanceVersion"
    },
    {
     "isSourceIdPinned": true,
     "modelId": 98328,
     "modelInstanceId": 73474,
     "sourceId": 87475,
     "sourceType": "modelInstanceVersion"
    },
    {
     "isSourceIdPinned": true,
     "modelId": 98757,
     "modelInstanceId": 73933,
     "sourceId": 88036,
     "sourceType": "modelInstanceVersion"
    },
    {
     "isSourceIdPinned": true,
     "modelId": 98833,
     "modelInstanceId": 74014,
     "sourceId": 88135,
     "sourceType": "modelInstanceVersion"
    }
   ],
   "dockerImageVersionId": 30747,
   "isGpuEnabled": true,
   "isInternetEnabled": true,
   "language": "python",
   "sourceType": "notebook"
  },
  "kernelspec": {
   "display_name": "Python 3",
   "language": "python",
   "name": "python3"
  },
  "language_info": {
   "codemirror_mode": {
    "name": "ipython",
    "version": 3
   },
   "file_extension": ".py",
   "mimetype": "text/x-python",
   "name": "python",
   "nbconvert_exporter": "python",
   "pygments_lexer": "ipython3",
   "version": "3.10.13"
  },
  "papermill": {
   "default_parameters": {},
   "duration": 11418.599532,
   "end_time": "2024-08-04T18:15:42.462203",
   "environment_variables": {},
   "exception": null,
   "input_path": "__notebook__.ipynb",
   "output_path": "__notebook__.ipynb",
   "parameters": {},
   "start_time": "2024-08-04T15:05:23.862671",
   "version": "2.5.0"
  }
 },
 "nbformat": 4,
 "nbformat_minor": 5
}
