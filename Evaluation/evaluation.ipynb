{
 "cells": [
  {
   "cell_type": "code",
   "execution_count": 1,
   "metadata": {},
   "outputs": [],
   "source": [
    "from tqdm import tqdm\n",
    "\n",
    "import numpy as np\n",
    "import matplotlib.pyplot as plt\n",
    "%matplotlib inline\n",
    "\n",
    "import time\n",
    "from sklearn.metrics import accuracy_score, precision_score, recall_score, f1_score, roc_auc_score\n",
    "import torch.nn.functional as F\n",
    "from torch.nn import CrossEntropyLoss\n"
   ]
  },
  {
   "cell_type": "code",
   "execution_count": 2,
   "metadata": {},
   "outputs": [],
   "source": [
    "import torch\n",
    "import torch.nn as nn\n",
    "from torch.utils.data import DataLoader\n",
    "from torchvision import datasets\n",
    "from torchvision import transforms\n",
    "from torchvision.transforms import ToTensor\n",
    "from model.model import BirdClassificationModel"
   ]
  },
  {
   "cell_type": "code",
   "execution_count": 3,
   "metadata": {},
   "outputs": [],
   "source": [
    "transform = transforms.Compose([\n",
    "    transforms.Resize((416, 416)),\n",
    "    transforms.ToTensor(),\n",
    "    transforms.Normalize(mean=[0.485, 0.456, 0.406], std=[0.229, 0.224, 0.225])\n",
    "])"
   ]
  },
  {
   "cell_type": "code",
   "execution_count": 4,
   "metadata": {},
   "outputs": [],
   "source": [
    "test_datasets = datasets.ImageFolder(\n",
    "    '/home/kusan/bird/seendataset(416)/bird dataset/val',\n",
    "    transform=transform,\n",
    ")"
   ]
  },
  {
   "cell_type": "code",
   "execution_count": 5,
   "metadata": {},
   "outputs": [],
   "source": [
    "batch_size = 64\n",
    "test_dataloader = DataLoader(test_datasets, shuffle=False, batch_size=batch_size)"
   ]
  },
  {
   "cell_type": "code",
   "execution_count": 6,
   "metadata": {},
   "outputs": [
    {
     "data": {
      "text/plain": [
       "'cuda'"
      ]
     },
     "execution_count": 6,
     "metadata": {},
     "output_type": "execute_result"
    }
   ],
   "source": [
    "device = 'cuda' if torch.cuda.is_available() else 'cpu'\n",
    "device"
   ]
  },
  {
   "cell_type": "code",
   "execution_count": 8,
   "metadata": {},
   "outputs": [
    {
     "data": {
      "text/plain": [
       "<All keys matched successfully>"
      ]
     },
     "execution_count": 8,
     "metadata": {},
     "output_type": "execute_result"
    }
   ],
   "source": [
    "output_dim=25\n",
    "model_with_state_dict = BirdClassificationModel(output_dim).to(device)\n",
    "state_dict = torch.load('/home/kusan/bird/Final Model/bird_classification_model(halka-small).pth')\n",
    "model_with_state_dict.load_state_dict(state_dict)"
   ]
  },
  {
   "cell_type": "code",
   "execution_count": 9,
   "metadata": {},
   "outputs": [],
   "source": [
    "def model_prediction(model, test_dataloader, device='cuda'):\n",
    "    model.eval()\n",
    "    targets = None\n",
    "    predictions = None\n",
    "\n",
    "    with torch.no_grad():\n",
    "        for images, labels in tqdm(test_dataloader):\n",
    "            images = images.to(device)\n",
    "            labels = labels.to(device)\n",
    "\n",
    "            results = model(images)\n",
    "            # If results is a tuple, unpack it here\n",
    "            if isinstance(results, tuple):\n",
    "                results = results[0]  # Select the output that contains the predictions\n",
    "\n",
    "            if targets is None:\n",
    "                targets = labels\n",
    "            else:\n",
    "                targets = torch.concat([targets, labels])\n",
    "            \n",
    "            if predictions is None:\n",
    "                predictions = results\n",
    "            else:\n",
    "                predictions = torch.concat([predictions, results])\n",
    "\n",
    "    return targets, predictions\n"
   ]
  },
  {
   "cell_type": "code",
   "execution_count": 11,
   "metadata": {},
   "outputs": [],
   "source": [
    "def evaluation(model, test_dataloader, device='cuda'):\n",
    "    # Model Complexity Computation\n",
    "    st = time.time()\n",
    "    targets, predictions = model_prediction(model, test_dataloader, device)\n",
    "    et = time.time()\n",
    "    elapsed_time = et - st\n",
    "    pytorch_total_params = sum(p.numel() for p in model.parameters())\n",
    "\n",
    "    # Apply softmax to get probabilities\n",
    "    predictions_probs = F.softmax(predictions, dim=1)\n",
    "\n",
    "    # Convert tensors to numpy arrays\n",
    "    predictions_argmax_array = predictions_probs.argmax(1).cpu().numpy()\n",
    "    predictions_array = predictions_probs.cpu().numpy()\n",
    "    targets_array = targets.cpu().numpy()\n",
    "\n",
    "    # Evaluation Metrics Computation\n",
    "    accuracyScore = accuracy_score(targets_array, predictions_argmax_array)\n",
    "    precisionScore = precision_score(targets_array, predictions_argmax_array, average='macro')\n",
    "    recallScore = recall_score(targets_array, predictions_argmax_array, average='macro')\n",
    "    f1Score = f1_score(targets_array, predictions_argmax_array, average='macro')\n",
    "    roc_auc = roc_auc_score(targets_array, predictions_array, average='macro', multi_class='ovr')\n",
    "    crossentropyloss = CrossEntropyLoss()(predictions, targets).item()\n",
    "\n",
    "    result_dict = {\n",
    "        'accuracy_score': accuracyScore,\n",
    "        'precision_score': precisionScore,\n",
    "        'recall_score': recallScore,\n",
    "        'f1_score': f1Score,\n",
    "        'roc_auc_score': roc_auc,\n",
    "        'cross_entropy_loss': crossentropyloss,\n",
    "        'inference_time': elapsed_time,\n",
    "        'model_parameters_count': pytorch_total_params\n",
    "    }\n",
    "    return result_dict"
   ]
  },
  {
   "cell_type": "code",
   "execution_count": 12,
   "metadata": {},
   "outputs": [
    {
     "name": "stderr",
     "output_type": "stream",
     "text": [
      "100%|██████████| 235/235 [03:46<00:00,  1.04it/s]\n"
     ]
    }
   ],
   "source": [
    "result = evaluation(model_with_state_dict, test_dataloader)"
   ]
  },
  {
   "cell_type": "code",
   "execution_count": 13,
   "metadata": {},
   "outputs": [],
   "source": [
    "team_name = str(input(\"Enter Team Name: \"))"
   ]
  },
  {
   "cell_type": "code",
   "execution_count": 14,
   "metadata": {},
   "outputs": [],
   "source": [
    "import json\n",
    "\n",
    "with open(team_name + \".json\", 'w') as file:\n",
    "    json.dump(result, file)"
   ]
  }
 ],
 "metadata": {
  "kernelspec": {
   "display_name": "torch",
   "language": "python",
   "name": "python3"
  },
  "language_info": {
   "codemirror_mode": {
    "name": "ipython",
    "version": 3
   },
   "file_extension": ".py",
   "mimetype": "text/x-python",
   "name": "python",
   "nbconvert_exporter": "python",
   "pygments_lexer": "ipython3",
   "version": "3.9.19"
  }
 },
 "nbformat": 4,
 "nbformat_minor": 2
}
